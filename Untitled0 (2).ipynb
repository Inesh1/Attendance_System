{
  "cells": [
    {
      "cell_type": "code",
      "execution_count": null,
      "metadata": {
        "id": "R_ZtaYs3Dkeb"
      },
      "outputs": [],
      "source": [
        "#preferably use google colab with GPU\n",
        "#if you want to run this code on your pc instal python 3.8\n",
        "\n",
        "!pip install opencv-python\n",
        "!pip install dlib\n",
        "!pip install face_recognition"
      ]
    },
    {
      "cell_type": "code",
      "execution_count": null,
      "metadata": {
        "id": "QkYEeYbvEkQX"
      },
      "outputs": [],
      "source": [
        "import cv2\n",
        "import dlib\n",
        "import face_recognition\n",
        "import numpy as np\n",
        "import csv\n",
        "import os\n",
        "from datetime import datetime\n",
        "from IPython.display import display, Javascript, Image\n",
        "from google.colab.output import eval_js\n",
        "from base64 import b64decode, b64encode\n",
        "import PIL\n",
        "import io\n",
        "import html\n",
        "import time"
      ]
    },
    {
      "cell_type": "code",
      "execution_count": null,
      "metadata": {
        "id": "YqT79RSjEomj"
      },
      "outputs": [],
      "source": [
        "def js_to_image(js_reply):\n",
        "  \"\"\"\n",
        "  Params:\n",
        "          js_reply: JavaScript object containing image from webcam\n",
        "  Returns:\n",
        "          img: OpenCV BGR image\n",
        "  \"\"\"\n",
        "  image_bytes = b64decode(js_reply.split(',')[1])\n",
        "  jpg_as_np = np.frombuffer(image_bytes, dtype=np.uint8)\n",
        "  img = cv2.imdecode(jpg_as_np, flags=1)\n",
        "\n",
        "  return img\n"
      ]
    },
    {
      "cell_type": "code",
      "execution_count": null,
      "metadata": {
        "id": "kKZ0EFC-Esrc"
      },
      "outputs": [],
      "source": [
        "face_cascade = cv2.CascadeClassifier(cv2.samples.findFile(cv2.data.haarcascades + 'haarcascade_frontalface_default.xml'))"
      ]
    },
    {
      "cell_type": "code",
      "execution_count": null,
      "metadata": {
        "id": "r-F946DWEzmr"
      },
      "outputs": [],
      "source": [
        "def take_photo(filename='photo.jpg', quality=0.8):\n",
        "  js = Javascript('''\n",
        "    async function takePhoto(quality) {\n",
        "      const div = document.createElement('div');\n",
        "      const capture = document.createElement('button');\n",
        "      capture.textContent = 'Capture';\n",
        "      div.appendChild(capture);\n",
        "\n",
        "      const video = document.createElement('video');\n",
        "      video.style.display = 'block';\n",
        "      const stream = await navigator.mediaDevices.getUserMedia({video: true});\n",
        "\n",
        "      document.body.appendChild(div);\n",
        "      div.appendChild(video);\n",
        "      video.srcObject = stream;\n",
        "      await video.play();\n",
        "\n",
        "      google.colab.output.setIframeHeight(document.documentElement.scrollHeight, true);\n",
        "\n",
        "      await new Promise((resolve) => capture.onclick = resolve);\n",
        "\n",
        "      const canvas = document.createElement('canvas');\n",
        "      canvas.width = video.videoWidth;\n",
        "      canvas.height = video.videoHeight;\n",
        "      canvas.getContext('2d').drawImage(video, 0, 0);\n",
        "      stream.getVideoTracks()[0].stop();\n",
        "      div.remove();\n",
        "      return canvas.toDataURL('image/jpeg', quality);\n",
        "    }\n",
        "    ''')\n",
        "  display(js)\n",
        "\n",
        "  data = eval_js('takePhoto({})'.format(quality))\n",
        "  img = js_to_image(data)\n",
        "  gray = cv2.cvtColor(img, cv2.COLOR_RGB2GRAY)\n",
        "  print(gray.shape)\n",
        "  faces = face_cascade.detectMultiScale(gray)\n",
        "  for (x,y,w,h) in faces:\n",
        "      img = cv2.rectangle(img,(x,y),(x+w,y+h),(255,0,0),2)\n",
        "  cv2.imwrite(filename, img)\n",
        "\n",
        "  return filename"
      ]
    },
    {
      "cell_type": "code",
      "execution_count": null,
      "metadata": {
        "colab": {
          "background_save": true
        },
        "id": "nM7V4iyvE2k1"
      },
      "outputs": [],
      "source": [
        "try:\n",
        "  filename = take_photo('curr.jpg')\n",
        "  print('Saved to {}'.format(filename))\n",
        "\n",
        "  display(Image(filename))\n",
        "except Exception as err:\n",
        "  print(str(err))"
      ]
    },
    {
      "cell_type": "code",
      "execution_count": null,
      "metadata": {
        "id": "ZwbV-rl-E5kP"
      },
      "outputs": [],
      "source": [
        "#you can increase students just copy next two lines of code and change name like std8_image\n",
        "std1_image = face_recognition.load_image_file(\"std1.jpg\")\n",
        "std1_encoding = face_recognition.face_encodings(std1_image)[0]\n",
        "\n",
        "std2_image = face_recognition.load_image_file(\"std2.jpg\")\n",
        "std2_encoding = face_recognition.face_encodings(std2_image)[0]\n",
        "\n",
        "std3_image = face_recognition.load_image_file(\"std3.jpg\")\n",
        "std3_encoding = face_recognition.face_encodings(std3_image)[0]\n",
        "\n",
        "std4_image = face_recognition.load_image_file(\"std4.jpg\")\n",
        "std4_encoding = face_recognition.face_encodings(std4_image)[0]\n",
        "\n",
        "std5_image = face_recognition.load_image_file(\"std5.jpg\")\n",
        "std5_encoding = face_recognition.face_encodings(std5_image)[0]\n",
        "\n",
        "std6_image = face_recognition.load_image_file(\"std6.jpg\")\n",
        "std6_encoding = face_recognition.face_encodings(std6_image)[0]\n",
        "\n",
        "unknown_image = face_recognition.load_image_file('curr.jpg')\n",
        "unknown_face_encodings = face_recognition.face_encodings(unknown_image)\n",
        "known_face_encodings = [\n",
        "std1_encoding,\n",
        "std2_encoding,\n",
        "std3_encoding,\n",
        "std4_encoding,\n",
        "std5_encoding,\n",
        "std6_encoding\n",
        "]\n",
        "\n",
        "# Name students name in this list, add names according to the student pictures you add\n",
        "known_faces_names = [\n",
        "\"Inesh\",\n",
        "\"Mohit\",\n",
        "\"John\",\n",
        "\"Mohan\",\n",
        "\"Alice\",\n",
        "\"Aryan\"\n",
        "]\n",
        "\n",
        "students = known_faces_names.copy()\n",
        "\n",
        "face_locations = []\n",
        "face_encodings = []\n",
        "face_names = []\n",
        "s=True\n",
        "\n",
        "\n",
        "now = datetime.now()\n",
        "current_date = now.strftime(\"%Y-%m-%d\")\n",
        "\n",
        "\n",
        "\n",
        "f = open(current_date+'.csv','w+',newline = '')\n",
        "lnwriter = csv.writer(f)\n",
        "\n",
        "for face_encoding in known_face_encodings:\n",
        "    matches = face_recognition.compare_faces(unknown_face_encodings, face_encoding)\n",
        "    name=\"\"\n",
        "    face_distance = face_recognition.face_distance(unknown_face_encodings,face_encoding)\n",
        "    best_match_index = np.argmin(face_distance)\n",
        "    if matches[best_match_index]:\n",
        "      name = known_faces_names[best_match_index]\n",
        "\n",
        "    face_names.append(name)\n",
        "    if name in known_faces_names:\n",
        "      font = cv2.FONT_HERSHEY_SIMPLEX\n",
        "      bottomLeftCornerOfText = (10,100)\n",
        "      fontScale              = 1.5\n",
        "      fontColor              = (255,0,0)\n",
        "      thickness              = 3\n",
        "      lineType               = 2\n",
        "\n",
        "      cv2.putText(unknown_image,name+' Present',\n",
        "        bottomLeftCornerOfText,\n",
        "        font,\n",
        "        fontScale,\n",
        "        fontColor,\n",
        "        thickness,\n",
        "        lineType)\n",
        "\n",
        "      if name in students:\n",
        "        students.remove(name)\n",
        "        print(students)\n",
        "        current_time = now.strftime(\"%H-%M-%S\")\n",
        "        lnwriter.writerow([name,current_time])\n",
        "\n",
        "f.close()"
      ]
    }
  ],
  "metadata": {
    "accelerator": "GPU",
    "colab": {
      "provenance": []
    },
    "kernelspec": {
      "display_name": "Python 3",
      "name": "python3"
    },
    "language_info": {
      "name": "python"
    }
  },
  "nbformat": 4,
  "nbformat_minor": 0
}